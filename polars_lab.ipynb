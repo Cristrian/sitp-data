{
 "cells": [
  {
   "cell_type": "code",
   "execution_count": 12,
   "metadata": {},
   "outputs": [
    {
     "data": {
      "text/html": [
       "<div><style>\n",
       ".dataframe > thead > tr,\n",
       ".dataframe > tbody > tr {\n",
       "  text-align: right;\n",
       "  white-space: pre-wrap;\n",
       "}\n",
       "</style>\n",
       "<small>shape: (9, 22)</small><table border=\"1\" class=\"dataframe\"><thead><tr><th>statistic</th><th>Dispositivo</th><th>Emisor</th><th>Estacion_Parada</th><th>Fase</th><th>Fecha_Clearing</th><th>Fecha_Transaccion</th><th>Hora_Pico_SN</th><th>ID_Vehiculo</th><th>Linea</th><th>Nombre_Perfil</th><th>Numero_Tarjeta</th><th>Operador</th><th>Ruta</th><th>Saldo_Despues_Transaccion</th><th>Saldo_Previo_a_Transaccion</th><th>Sistema</th><th>Tipo_Tarifa</th><th>Tipo_Tarjeta</th><th>Tipo_Vehiculo</th><th>Valor</th><th>archivo</th></tr><tr><td>str</td><td>f64</td><td>str</td><td>str</td><td>str</td><td>str</td><td>str</td><td>str</td><td>f64</td><td>str</td><td>str</td><td>str</td><td>str</td><td>str</td><td>f64</td><td>f64</td><td>str</td><td>f64</td><td>str</td><td>str</td><td>f64</td><td>str</td></tr></thead><tbody><tr><td>&quot;count&quot;</td><td>2.053241e6</td><td>&quot;2053241&quot;</td><td>&quot;2053241&quot;</td><td>&quot;2053241&quot;</td><td>&quot;2053241&quot;</td><td>&quot;2053241&quot;</td><td>&quot;2053241&quot;</td><td>2.053241e6</td><td>&quot;2053241&quot;</td><td>&quot;2053241&quot;</td><td>&quot;2053241&quot;</td><td>&quot;2053241&quot;</td><td>&quot;2053241&quot;</td><td>2.053241e6</td><td>2.053241e6</td><td>&quot;2053241&quot;</td><td>2.053241e6</td><td>&quot;2053241&quot;</td><td>&quot;2053241&quot;</td><td>2.053241e6</td><td>&quot;2053241&quot;</td></tr><tr><td>&quot;null_count&quot;</td><td>0.0</td><td>&quot;0&quot;</td><td>&quot;0&quot;</td><td>&quot;0&quot;</td><td>&quot;0&quot;</td><td>&quot;0&quot;</td><td>&quot;0&quot;</td><td>0.0</td><td>&quot;0&quot;</td><td>&quot;0&quot;</td><td>&quot;0&quot;</td><td>&quot;0&quot;</td><td>&quot;0&quot;</td><td>0.0</td><td>0.0</td><td>&quot;0&quot;</td><td>0.0</td><td>&quot;0&quot;</td><td>&quot;0&quot;</td><td>0.0</td><td>&quot;0&quot;</td></tr><tr><td>&quot;mean&quot;</td><td>2.2001e8</td><td>null</td><td>null</td><td>null</td><td>null</td><td>null</td><td>null</td><td>459510.180139</td><td>null</td><td>null</td><td>null</td><td>null</td><td>null</td><td>13636.923467</td><td>15604.797851</td><td>null</td><td>1.290074</td><td>null</td><td>null</td><td>2138.776159</td><td>null</td></tr><tr><td>&quot;std&quot;</td><td>2937.998768</td><td>null</td><td>null</td><td>null</td><td>null</td><td>null</td><td>null</td><td>263068.46479</td><td>null</td><td>null</td><td>null</td><td>null</td><td>null</td><td>20406.269385</td><td>20511.353933</td><td>null</td><td>0.520633</td><td>null</td><td>null</td><td>1267.321316</td><td>null</td></tr><tr><td>&quot;min&quot;</td><td>2.20000002e8</td><td>&quot;(3101000) Bogota Car…</td><td>&quot;(0) (Unknown)&quot;</td><td>&quot;Fase 3&quot;</td><td>&quot;2024-08-01&quot;</td><td>&quot;2024-07-31 16:21:29&quot;</td><td>&quot;Peak Time&quot;</td><td>100010.0</td><td>&quot;(1)&quot;</td><td>&quot;(001) Adulto&quot;</td><td>&quot;0000031782a029256095…</td><td>&quot;(001) CONSORCIO EXPR…</td><td>&quot;(1)&quot;</td><td>0.0</td><td>0.0</td><td>&quot;ZONAL&quot;</td><td>1.0</td><td>&quot;tullave Básica&quot;</td><td>&quot;(02) Urbano&quot;</td><td>0.0</td><td>&quot;Validacion_001_CONSO…</td></tr><tr><td>&quot;25%&quot;</td><td>2.20002665e8</td><td>null</td><td>null</td><td>null</td><td>null</td><td>null</td><td>null</td><td>252041.0</td><td>null</td><td>null</td><td>null</td><td>null</td><td>null</td><td>2350.0</td><td>4500.0</td><td>null</td><td>1.0</td><td>null</td><td>null</td><td>0.0</td><td>null</td></tr><tr><td>&quot;50%&quot;</td><td>2.20005223e8</td><td>null</td><td>null</td><td>null</td><td>null</td><td>null</td><td>null</td><td>407819.0</td><td>null</td><td>null</td><td>null</td><td>null</td><td>null</td><td>7100.0</td><td>9330.0</td><td>null</td><td>1.0</td><td>null</td><td>null</td><td>2950.0</td><td>null</td></tr><tr><td>&quot;75%&quot;</td><td>2.20007829e8</td><td>null</td><td>null</td><td>null</td><td>null</td><td>null</td><td>null</td><td>704339.0</td><td>null</td><td>null</td><td>null</td><td>null</td><td>null</td><td>16200.0</td><td>18350.0</td><td>null</td><td>2.0</td><td>null</td><td>null</td><td>2950.0</td><td>null</td></tr><tr><td>&quot;max&quot;</td><td>2.20009981e8</td><td>&quot;(3200901) Banco de B…</td><td>&quot;(73823) 912A00|912A0…</td><td>&quot;Fase 3&quot;</td><td>&quot;2024-08-01&quot;</td><td>&quot;2024-08-02 03:56:58&quot;</td><td>&quot;Peak Time&quot;</td><td>937211.0</td><td>&quot;(1678) FH733&quot;</td><td>&quot;(101) Adulto PV&quot;</td><td>&quot;fffff6d484cfcd0551cc…</td><td>&quot;(134) OPERADORA DIST…</td><td>&quot;(8127) C404_Vuelta_2…</td><td>417850.0</td><td>417950.0</td><td>&quot;ZONAL&quot;</td><td>3.0</td><td>&quot;tullave Plus&quot;</td><td>&quot;(02) Urbano&quot;</td><td>2950.0</td><td>&quot;Validacion_134_OPERA…</td></tr></tbody></table></div>"
      ],
      "text/plain": [
       "shape: (9, 22)\n",
       "┌───────────┬───────────┬───────────┬───────────┬───┬───────────┬───────────┬───────────┬──────────┐\n",
       "│ statistic ┆ Dispositi ┆ Emisor    ┆ Estacion_ ┆ … ┆ Tipo_Tarj ┆ Tipo_Vehi ┆ Valor     ┆ archivo  │\n",
       "│ ---       ┆ vo        ┆ ---       ┆ Parada    ┆   ┆ eta       ┆ culo      ┆ ---       ┆ ---      │\n",
       "│ str       ┆ ---       ┆ str       ┆ ---       ┆   ┆ ---       ┆ ---       ┆ f64       ┆ str      │\n",
       "│           ┆ f64       ┆           ┆ str       ┆   ┆ str       ┆ str       ┆           ┆          │\n",
       "╞═══════════╪═══════════╪═══════════╪═══════════╪═══╪═══════════╪═══════════╪═══════════╪══════════╡\n",
       "│ count     ┆ 2.053241e ┆ 2053241   ┆ 2053241   ┆ … ┆ 2053241   ┆ 2053241   ┆ 2.053241e ┆ 2053241  │\n",
       "│           ┆ 6         ┆           ┆           ┆   ┆           ┆           ┆ 6         ┆          │\n",
       "│ null_coun ┆ 0.0       ┆ 0         ┆ 0         ┆ … ┆ 0         ┆ 0         ┆ 0.0       ┆ 0        │\n",
       "│ t         ┆           ┆           ┆           ┆   ┆           ┆           ┆           ┆          │\n",
       "│ mean      ┆ 2.2001e8  ┆ null      ┆ null      ┆ … ┆ null      ┆ null      ┆ 2138.7761 ┆ null     │\n",
       "│           ┆           ┆           ┆           ┆   ┆           ┆           ┆ 59        ┆          │\n",
       "│ std       ┆ 2937.9987 ┆ null      ┆ null      ┆ … ┆ null      ┆ null      ┆ 1267.3213 ┆ null     │\n",
       "│           ┆ 68        ┆           ┆           ┆   ┆           ┆           ┆ 16        ┆          │\n",
       "│ min       ┆ 2.2000000 ┆ (3101000) ┆ (0)       ┆ … ┆ tullave   ┆ (02)      ┆ 0.0       ┆ Validaci │\n",
       "│           ┆ 2e8       ┆ Bogota    ┆ (Unknown) ┆   ┆ Básica    ┆ Urbano    ┆           ┆ on_001_C │\n",
       "│           ┆           ┆ Car…      ┆           ┆   ┆           ┆           ┆           ┆ ONSO…    │\n",
       "│ 25%       ┆ 2.2000266 ┆ null      ┆ null      ┆ … ┆ null      ┆ null      ┆ 0.0       ┆ null     │\n",
       "│           ┆ 5e8       ┆           ┆           ┆   ┆           ┆           ┆           ┆          │\n",
       "│ 50%       ┆ 2.2000522 ┆ null      ┆ null      ┆ … ┆ null      ┆ null      ┆ 2950.0    ┆ null     │\n",
       "│           ┆ 3e8       ┆           ┆           ┆   ┆           ┆           ┆           ┆          │\n",
       "│ 75%       ┆ 2.2000782 ┆ null      ┆ null      ┆ … ┆ null      ┆ null      ┆ 2950.0    ┆ null     │\n",
       "│           ┆ 9e8       ┆           ┆           ┆   ┆           ┆           ┆           ┆          │\n",
       "│ max       ┆ 2.2000998 ┆ (3200901) ┆ (73823)   ┆ … ┆ tullave   ┆ (02)      ┆ 2950.0    ┆ Validaci │\n",
       "│           ┆ 1e8       ┆ Banco de  ┆ 912A00|91 ┆   ┆ Plus      ┆ Urbano    ┆           ┆ on_134_O │\n",
       "│           ┆           ┆ B…        ┆ 2A0…      ┆   ┆           ┆           ┆           ┆ PERA…    │\n",
       "└───────────┴───────────┴───────────┴───────────┴───┴───────────┴───────────┴───────────┴──────────┘"
      ]
     },
     "execution_count": 12,
     "metadata": {},
     "output_type": "execute_result"
    }
   ],
   "source": [
    "import polars as pl\n",
    "\n",
    "df = pl.read_csv('csv_data/20240801.csv')\n",
    "# describe witouth scientific notation\n",
    "df.describe()"
   ]
  },
  {
   "cell_type": "code",
   "execution_count": null,
   "metadata": {},
   "outputs": [],
   "source": [
    "# Let's check the schema\n",
    "df.schema.names()"
   ]
  },
  {
   "cell_type": "code",
   "execution_count": 9,
   "metadata": {},
   "outputs": [
    {
     "data": {
      "text/plain": [
       "odict_items([('Dispositivo', Int64), ('Emisor', String), ('Estacion_Parada', String), ('Fase', String), ('Fecha_Clearing', String), ('Fecha_Transaccion', String), ('Hora_Pico_SN', String), ('ID_Vehiculo', Int64), ('Linea', String), ('Nombre_Perfil', String), ('Numero_Tarjeta', String), ('Operador', String), ('Ruta', String), ('Saldo_Despues_Transaccion', Float64), ('Saldo_Previo_a_Transaccion', Float64), ('Sistema', String), ('Tipo_Tarifa', Int64), ('Tipo_Tarjeta', String), ('Tipo_Vehiculo', String), ('Valor', Float64), ('archivo', String)])"
      ]
     },
     "execution_count": 9,
     "metadata": {},
     "output_type": "execute_result"
    }
   ],
   "source": [
    "df.schema.items()"
   ]
  },
  {
   "cell_type": "code",
   "execution_count": 11,
   "metadata": {},
   "outputs": [
    {
     "data": {
      "text/html": [
       "<div><style>\n",
       ".dataframe > thead > tr,\n",
       ".dataframe > tbody > tr {\n",
       "  text-align: right;\n",
       "  white-space: pre-wrap;\n",
       "}\n",
       "</style>\n",
       "<small>shape: (3, 21)</small><table border=\"1\" class=\"dataframe\"><thead><tr><th>Dispositivo</th><th>Emisor</th><th>Estacion_Parada</th><th>Fase</th><th>Fecha_Clearing</th><th>Fecha_Transaccion</th><th>Hora_Pico_SN</th><th>ID_Vehiculo</th><th>Linea</th><th>Nombre_Perfil</th><th>Numero_Tarjeta</th><th>Operador</th><th>Ruta</th><th>Saldo_Despues_Transaccion</th><th>Saldo_Previo_a_Transaccion</th><th>Sistema</th><th>Tipo_Tarifa</th><th>Tipo_Tarjeta</th><th>Tipo_Vehiculo</th><th>Valor</th><th>archivo</th></tr><tr><td>i64</td><td>str</td><td>str</td><td>str</td><td>str</td><td>str</td><td>str</td><td>i64</td><td>str</td><td>str</td><td>str</td><td>str</td><td>str</td><td>f64</td><td>f64</td><td>str</td><td>i64</td><td>str</td><td>str</td><td>f64</td><td>str</td></tr></thead><tbody><tr><td>220007207</td><td>&quot;(3101000) Bogota Car…</td><td>&quot;(52310) 031A05_TM|03…</td><td>&quot;Fase 3&quot;</td><td>&quot;2024-08-01&quot;</td><td>&quot;2024-08-01 03:56:57&quot;</td><td>&quot;Peak Time&quot;</td><td>457068</td><td>&quot;(1619) FB419&quot;</td><td>&quot;(001) Anonymous&quot;</td><td>&quot;bc261e22c34ba74b106b…</td><td>&quot;(014) ESTE ES MI BUS…</td><td>&quot;(7986) FB419 Ida_202…</td><td>1200.0</td><td>4150.0</td><td>&quot;ZONAL&quot;</td><td>1</td><td>&quot;tullave Básica&quot;</td><td>&quot;(02) Urbano&quot;</td><td>2950.0</td><td>&quot;Validacion_014_ESTE …</td></tr><tr><td>220001426</td><td>&quot;(3101000) Bogota Car…</td><td>&quot;(56467) 206A07_TM|20…</td><td>&quot;Fase 3&quot;</td><td>&quot;2024-08-01&quot;</td><td>&quot;2024-08-01 03:57:20&quot;</td><td>&quot;Peak Time&quot;</td><td>457125</td><td>&quot;(1619) FB419&quot;</td><td>&quot;(006) Apoyo Ciudadan…</td><td>&quot;fec01c1fbdb6cfffc11c…</td><td>&quot;(014) ESTE ES MI BUS…</td><td>&quot;(7986) FB419 Ida_202…</td><td>23850.0</td><td>26800.0</td><td>&quot;ZONAL&quot;</td><td>1</td><td>&quot;tullave Plus&quot;</td><td>&quot;(02) Urbano&quot;</td><td>2950.0</td><td>&quot;Validacion_014_ESTE …</td></tr><tr><td>220001426</td><td>&quot;(3101000) Bogota Car…</td><td>&quot;(56467) 206A07_TM|20…</td><td>&quot;Fase 3&quot;</td><td>&quot;2024-08-01&quot;</td><td>&quot;2024-08-01 03:57:24&quot;</td><td>&quot;Peak Time&quot;</td><td>457125</td><td>&quot;(1619) FB419&quot;</td><td>&quot;(006) Apoyo Ciudadan…</td><td>&quot;bb30f1ddb49abe26cefb…</td><td>&quot;(014) ESTE ES MI BUS…</td><td>&quot;(7986) FB419 Ida_202…</td><td>20450.0</td><td>23400.0</td><td>&quot;ZONAL&quot;</td><td>1</td><td>&quot;tullave Plus&quot;</td><td>&quot;(02) Urbano&quot;</td><td>2950.0</td><td>&quot;Validacion_014_ESTE …</td></tr></tbody></table></div>"
      ],
      "text/plain": [
       "shape: (3, 21)\n",
       "┌────────────┬────────────┬────────────┬────────┬───┬────────────┬────────────┬────────┬───────────┐\n",
       "│ Dispositiv ┆ Emisor     ┆ Estacion_P ┆ Fase   ┆ … ┆ Tipo_Tarje ┆ Tipo_Vehic ┆ Valor  ┆ archivo   │\n",
       "│ o          ┆ ---        ┆ arada      ┆ ---    ┆   ┆ ta         ┆ ulo        ┆ ---    ┆ ---       │\n",
       "│ ---        ┆ str        ┆ ---        ┆ str    ┆   ┆ ---        ┆ ---        ┆ f64    ┆ str       │\n",
       "│ i64        ┆            ┆ str        ┆        ┆   ┆ str        ┆ str        ┆        ┆           │\n",
       "╞════════════╪════════════╪════════════╪════════╪═══╪════════════╪════════════╪════════╪═══════════╡\n",
       "│ 220007207  ┆ (3101000)  ┆ (52310)    ┆ Fase 3 ┆ … ┆ tullave    ┆ (02)       ┆ 2950.0 ┆ Validacio │\n",
       "│            ┆ Bogota     ┆ 031A05_TM| ┆        ┆   ┆ Básica     ┆ Urbano     ┆        ┆ n_014_EST │\n",
       "│            ┆ Car…       ┆ 03…        ┆        ┆   ┆            ┆            ┆        ┆ E …       │\n",
       "│ 220001426  ┆ (3101000)  ┆ (56467)    ┆ Fase 3 ┆ … ┆ tullave    ┆ (02)       ┆ 2950.0 ┆ Validacio │\n",
       "│            ┆ Bogota     ┆ 206A07_TM| ┆        ┆   ┆ Plus       ┆ Urbano     ┆        ┆ n_014_EST │\n",
       "│            ┆ Car…       ┆ 20…        ┆        ┆   ┆            ┆            ┆        ┆ E …       │\n",
       "│ 220001426  ┆ (3101000)  ┆ (56467)    ┆ Fase 3 ┆ … ┆ tullave    ┆ (02)       ┆ 2950.0 ┆ Validacio │\n",
       "│            ┆ Bogota     ┆ 206A07_TM| ┆        ┆   ┆ Plus       ┆ Urbano     ┆        ┆ n_014_EST │\n",
       "│            ┆ Car…       ┆ 20…        ┆        ┆   ┆            ┆            ┆        ┆ E …       │\n",
       "└────────────┴────────────┴────────────┴────────┴───┴────────────┴────────────┴────────┴───────────┘"
      ]
     },
     "execution_count": 11,
     "metadata": {},
     "output_type": "execute_result"
    }
   ],
   "source": [
    "df.head(3)"
   ]
  },
  {
   "cell_type": "code",
   "execution_count": 13,
   "metadata": {},
   "outputs": [],
   "source": [
    "df_2 = pl.read_csv('csv_data/20250101.csv')"
   ]
  },
  {
   "cell_type": "code",
   "execution_count": 16,
   "metadata": {},
   "outputs": [
    {
     "data": {
      "text/html": [
       "<div><style>\n",
       ".dataframe > thead > tr,\n",
       ".dataframe > tbody > tr {\n",
       "  text-align: right;\n",
       "  white-space: pre-wrap;\n",
       "}\n",
       "</style>\n",
       "<small>shape: (9, 21)</small><table border=\"1\" class=\"dataframe\"><thead><tr><th>statistic</th><th>Dispositivo</th><th>Emisor</th><th>Estacion_Parada</th><th>Fase</th><th>Fecha_Clearing</th><th>Fecha_Transaccion</th><th>Hora_Pico_SN</th><th>ID_Vehiculo</th><th>Linea</th><th>Nombre_Perfil</th><th>Numero_Tarjeta</th><th>Operador</th><th>Ruta</th><th>Saldo_Despues_Transaccion</th><th>Saldo_Previo_a_Transaccion</th><th>Sistema</th><th>Tipo_Tarifa</th><th>Tipo_Tarjeta</th><th>Tipo_Vehiculo</th><th>Valor</th></tr><tr><td>str</td><td>f64</td><td>str</td><td>str</td><td>str</td><td>str</td><td>str</td><td>str</td><td>f64</td><td>str</td><td>str</td><td>str</td><td>str</td><td>str</td><td>f64</td><td>f64</td><td>str</td><td>f64</td><td>str</td><td>str</td><td>f64</td></tr></thead><tbody><tr><td>&quot;count&quot;</td><td>360090.0</td><td>&quot;360090&quot;</td><td>&quot;360090&quot;</td><td>&quot;360090&quot;</td><td>&quot;360090&quot;</td><td>&quot;360090&quot;</td><td>&quot;360090&quot;</td><td>360090.0</td><td>&quot;360090&quot;</td><td>&quot;360090&quot;</td><td>&quot;360090&quot;</td><td>&quot;360090&quot;</td><td>&quot;360090&quot;</td><td>360090.0</td><td>360090.0</td><td>&quot;360090&quot;</td><td>360090.0</td><td>&quot;360090&quot;</td><td>&quot;360090&quot;</td><td>360090.0</td></tr><tr><td>&quot;null_count&quot;</td><td>0.0</td><td>&quot;0&quot;</td><td>&quot;0&quot;</td><td>&quot;0&quot;</td><td>&quot;0&quot;</td><td>&quot;0&quot;</td><td>&quot;0&quot;</td><td>0.0</td><td>&quot;0&quot;</td><td>&quot;0&quot;</td><td>&quot;0&quot;</td><td>&quot;0&quot;</td><td>&quot;0&quot;</td><td>0.0</td><td>0.0</td><td>&quot;0&quot;</td><td>0.0</td><td>&quot;0&quot;</td><td>&quot;0&quot;</td><td>0.0</td></tr><tr><td>&quot;mean&quot;</td><td>2.2001e8</td><td>null</td><td>null</td><td>null</td><td>null</td><td>null</td><td>null</td><td>494064.631959</td><td>null</td><td>null</td><td>null</td><td>null</td><td>null</td><td>12736.168313</td><td>14784.7342</td><td>null</td><td>1.227663</td><td>null</td><td>null</td><td>2293.015357</td></tr><tr><td>&quot;std&quot;</td><td>2964.93733</td><td>null</td><td>null</td><td>null</td><td>null</td><td>null</td><td>null</td><td>270010.347732</td><td>null</td><td>null</td><td>null</td><td>null</td><td>null</td><td>21075.816525</td><td>21204.474792</td><td>null</td><td>0.469254</td><td>null</td><td>null</td><td>1174.490142</td></tr><tr><td>&quot;min&quot;</td><td>2.20000002e8</td><td>&quot;(3101000) Bogota Car…</td><td>&quot;(0) (Unknown)&quot;</td><td>&quot;Fase 3&quot;</td><td>&quot;2025-01-01&quot;</td><td>&quot;2024-12-31 11:22:59&quot;</td><td>&quot;Peak Time&quot;</td><td>102021.0</td><td>&quot;(10002) HH710&quot;</td><td>&quot;(001) Adulto&quot;</td><td>&quot;00003d8d9526dde0d26d…</td><td>&quot;(001) CONSORCIO EXPR…</td><td>&quot;(10004) HH710_V1&quot;</td><td>0.0</td><td>0.0</td><td>&quot;ZONAL&quot;</td><td>1.0</td><td>&quot;tullave Básica&quot;</td><td>&quot;(02) Urbano&quot;</td><td>0.0</td></tr><tr><td>&quot;25%&quot;</td><td>2.20002759e8</td><td>null</td><td>null</td><td>null</td><td>null</td><td>null</td><td>null</td><td>254702.0</td><td>null</td><td>null</td><td>null</td><td>null</td><td>null</td><td>1800.0</td><td>4100.0</td><td>null</td><td>1.0</td><td>null</td><td>null</td><td>2500.0</td></tr><tr><td>&quot;50%&quot;</td><td>2.20005317e8</td><td>null</td><td>null</td><td>null</td><td>null</td><td>null</td><td>null</td><td>504175.0</td><td>null</td><td>null</td><td>null</td><td>null</td><td>null</td><td>6400.0</td><td>8725.0</td><td>null</td><td>1.0</td><td>null</td><td>null</td><td>2950.0</td></tr><tr><td>&quot;75%&quot;</td><td>2.200079e8</td><td>null</td><td>null</td><td>null</td><td>null</td><td>null</td><td>null</td><td>707002.0</td><td>null</td><td>null</td><td>null</td><td>null</td><td>null</td><td>14600.0</td><td>16900.0</td><td>null</td><td>1.0</td><td>null</td><td>null</td><td>2950.0</td></tr><tr><td>&quot;max&quot;</td><td>2.20014999e8</td><td>&quot;(3200901) Banco de B…</td><td>&quot;(73933) 913A00|913A0…</td><td>&quot;Fase 3&quot;</td><td>&quot;2025-01-01&quot;</td><td>&quot;2025-01-02 03:58:55&quot;</td><td>&quot;Peak Time&quot;</td><td>937209.0</td><td>&quot;(1684) GH543&quot;</td><td>&quot;(101) Adulto PV&quot;</td><td>&quot;ffffd327a8ab737dab43…</td><td>&quot;(134) OPERADORA DIST…</td><td>&quot;(8297) 7-3_20241223_…</td><td>417150.0</td><td>418000.0</td><td>&quot;ZONAL&quot;</td><td>3.0</td><td>&quot;tullave Plus&quot;</td><td>&quot;(02) Urbano&quot;</td><td>2950.0</td></tr></tbody></table></div>"
      ],
      "text/plain": [
       "shape: (9, 21)\n",
       "┌───────────┬───────────┬───────────┬───────────┬───┬───────────┬───────────┬───────────┬──────────┐\n",
       "│ statistic ┆ Dispositi ┆ Emisor    ┆ Estacion_ ┆ … ┆ Tipo_Tari ┆ Tipo_Tarj ┆ Tipo_Vehi ┆ Valor    │\n",
       "│ ---       ┆ vo        ┆ ---       ┆ Parada    ┆   ┆ fa        ┆ eta       ┆ culo      ┆ ---      │\n",
       "│ str       ┆ ---       ┆ str       ┆ ---       ┆   ┆ ---       ┆ ---       ┆ ---       ┆ f64      │\n",
       "│           ┆ f64       ┆           ┆ str       ┆   ┆ f64       ┆ str       ┆ str       ┆          │\n",
       "╞═══════════╪═══════════╪═══════════╪═══════════╪═══╪═══════════╪═══════════╪═══════════╪══════════╡\n",
       "│ count     ┆ 360090.0  ┆ 360090    ┆ 360090    ┆ … ┆ 360090.0  ┆ 360090    ┆ 360090    ┆ 360090.0 │\n",
       "│ null_coun ┆ 0.0       ┆ 0         ┆ 0         ┆ … ┆ 0.0       ┆ 0         ┆ 0         ┆ 0.0      │\n",
       "│ t         ┆           ┆           ┆           ┆   ┆           ┆           ┆           ┆          │\n",
       "│ mean      ┆ 2.2001e8  ┆ null      ┆ null      ┆ … ┆ 1.227663  ┆ null      ┆ null      ┆ 2293.015 │\n",
       "│           ┆           ┆           ┆           ┆   ┆           ┆           ┆           ┆ 357      │\n",
       "│ std       ┆ 2964.9373 ┆ null      ┆ null      ┆ … ┆ 0.469254  ┆ null      ┆ null      ┆ 1174.490 │\n",
       "│           ┆ 3         ┆           ┆           ┆   ┆           ┆           ┆           ┆ 142      │\n",
       "│ min       ┆ 2.2000000 ┆ (3101000) ┆ (0)       ┆ … ┆ 1.0       ┆ tullave   ┆ (02)      ┆ 0.0      │\n",
       "│           ┆ 2e8       ┆ Bogota    ┆ (Unknown) ┆   ┆           ┆ Básica    ┆ Urbano    ┆          │\n",
       "│           ┆           ┆ Car…      ┆           ┆   ┆           ┆           ┆           ┆          │\n",
       "│ 25%       ┆ 2.2000275 ┆ null      ┆ null      ┆ … ┆ 1.0       ┆ null      ┆ null      ┆ 2500.0   │\n",
       "│           ┆ 9e8       ┆           ┆           ┆   ┆           ┆           ┆           ┆          │\n",
       "│ 50%       ┆ 2.2000531 ┆ null      ┆ null      ┆ … ┆ 1.0       ┆ null      ┆ null      ┆ 2950.0   │\n",
       "│           ┆ 7e8       ┆           ┆           ┆   ┆           ┆           ┆           ┆          │\n",
       "│ 75%       ┆ 2.200079e ┆ null      ┆ null      ┆ … ┆ 1.0       ┆ null      ┆ null      ┆ 2950.0   │\n",
       "│           ┆ 8         ┆           ┆           ┆   ┆           ┆           ┆           ┆          │\n",
       "│ max       ┆ 2.2001499 ┆ (3200901) ┆ (73933)   ┆ … ┆ 3.0       ┆ tullave   ┆ (02)      ┆ 2950.0   │\n",
       "│           ┆ 9e8       ┆ Banco de  ┆ 913A00|91 ┆   ┆           ┆ Plus      ┆ Urbano    ┆          │\n",
       "│           ┆           ┆ B…        ┆ 3A0…      ┆   ┆           ┆           ┆           ┆          │\n",
       "└───────────┴───────────┴───────────┴───────────┴───┴───────────┴───────────┴───────────┴──────────┘"
      ]
     },
     "execution_count": 16,
     "metadata": {},
     "output_type": "execute_result"
    }
   ],
   "source": [
    "df_2.describe()"
   ]
  },
  {
   "cell_type": "code",
   "execution_count": 15,
   "metadata": {},
   "outputs": [
    {
     "data": {
      "text/plain": [
       "['Dispositivo',\n",
       " 'Emisor',\n",
       " 'Estacion_Parada',\n",
       " 'Fase',\n",
       " 'Fecha_Clearing',\n",
       " 'Fecha_Transaccion',\n",
       " 'Hora_Pico_SN',\n",
       " 'ID_Vehiculo',\n",
       " 'Linea',\n",
       " 'Nombre_Perfil',\n",
       " 'Numero_Tarjeta',\n",
       " 'Operador',\n",
       " 'Ruta',\n",
       " 'Saldo_Despues_Transaccion',\n",
       " 'Saldo_Previo_a_Transaccion',\n",
       " 'Sistema',\n",
       " 'Tipo_Tarifa',\n",
       " 'Tipo_Tarjeta',\n",
       " 'Tipo_Vehiculo',\n",
       " 'Valor']"
      ]
     },
     "execution_count": 15,
     "metadata": {},
     "output_type": "execute_result"
    }
   ],
   "source": [
    "df_2.schema.names()"
   ]
  },
  {
   "cell_type": "code",
   "execution_count": null,
   "metadata": {},
   "outputs": [],
   "source": [
    "expected_columns = [\n",
    "    'Dispositivo',\n",
    "    'Emisor',\n",
    "    'Estacion_Parada',\n",
    "    'Fase',\n",
    "    'Fecha_Clearing',\n",
    "    'Fecha_Transaccion',\n",
    "    'Hora_Pico_SN',\n",
    "    'ID_Vehiculo',\n",
    "    'Linea',\n",
    "    'Nombre_Perfil',\n",
    "    'Numero_Tarjeta',\n",
    "    'Operador',\n",
    "    'Ruta',\n",
    "    'Saldo_Despues_Transaccion',\n",
    "    'Saldo_Previo_a_Transaccion',\n",
    "    'Sistema',\n",
    "    'Tipo_Tarifa',\n",
    "    'Tipo_Tarjeta',\n",
    "    'Tipo_Vehiculo',\n",
    "    'Valor',\n",
    "    'archivo'\n",
    " ]"
   ]
  }
 ],
 "metadata": {
  "kernelspec": {
   "display_name": "SITP_Data-AFdRLJj8",
   "language": "python",
   "name": "python3"
  },
  "language_info": {
   "codemirror_mode": {
    "name": "ipython",
    "version": 3
   },
   "file_extension": ".py",
   "mimetype": "text/x-python",
   "name": "python",
   "nbconvert_exporter": "python",
   "pygments_lexer": "ipython3",
   "version": "3.12.7"
  }
 },
 "nbformat": 4,
 "nbformat_minor": 2
}
